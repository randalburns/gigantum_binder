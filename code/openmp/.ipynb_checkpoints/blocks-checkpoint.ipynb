{
 "cells": [
  {
   "cell_type": "code",
   "execution_count": 1,
   "metadata": {},
   "outputs": [],
   "source": [
    ".L omp"
   ]
  },
  {
   "cell_type": "markdown",
   "metadata": {},
   "source": [
    "### Block Parallelism\n",
    "\n",
    "The main OpenMP parallelism contruct is on the basic block."
   ]
  },
  {
   "cell_type": "code",
   "execution_count": 2,
   "metadata": {},
   "outputs": [
    {
     "name": "stdout",
     "output_type": "stream",
     "text": [
      "OMP Thread# 0\n",
      "Master says that there are 32 threads\n",
      "OMP Thread# 16\n",
      "OMP Thread# 3\n",
      "OMP Thread# 28\n",
      "OMP Thread# 18\n",
      "OMP Thread# 20\n",
      "OMP Thread# 4\n",
      "OMP Thread# 24\n",
      "OMP Thread# 7\n",
      "OMP Thread# 22\n",
      "OMP Thread# 5\n",
      "OMP Thread# 26\n",
      "OMP Thread# 11\n",
      "OMP Thread# 8\n",
      "OMP Thread# 19\n",
      "OMP Thread# 17\n",
      "OMP Thread# 1\n",
      "OMP Thread# 23\n",
      "OMP Thread# 29\n",
      "OMP Thread# 9\n",
      "OMP Thread# 6\n",
      "OMP Thread# 27\n",
      "OMP Thread# 21\n",
      "OMP Thread# 25\n",
      "OMP Thread# 10\n",
      "OMP Thread# 2\n",
      "OMP Thread# OMP Thread# 12\n",
      "OMP Thread# 14\n",
      "15\n",
      "OMP Thread# 13\n",
      "OMP Thread# 31\n",
      "OMP Thread# 30\n"
     ]
    }
   ],
   "source": [
    "#include <iostream> \n",
    "#include <omp.h>\n",
    "\n",
    "{\n",
    "  int i;\n",
    "\n",
    "  omp_set_num_threads ( 32 );\n",
    "\n",
    "  #pragma omp parallel \n",
    "  { \n",
    "    int tid = omp_get_thread_num();\n",
    "    std::cout << \"OMP Thread# \" << tid << \"\\n\";\n",
    "    if ( 0 == tid )\n",
    "    {\n",
    "      std::cout << \"Master says that there are \" <<  omp_get_num_threads() << \" threads\"  << \"\\n\";\n",
    "    }\n",
    "  }\n",
    "}\n",
    "std::cout << std::flush;"
   ]
  },
  {
   "cell_type": "markdown",
   "metadata": {},
   "source": [
    "### Block Scoping"
   ]
  },
  {
   "cell_type": "code",
   "execution_count": 3,
   "metadata": {},
   "outputs": [
    {
     "name": "stdout",
     "output_type": "stream",
     "text": [
      "Inner scope x = 0\n",
      "Outer scope x = 1\n"
     ]
    }
   ],
   "source": [
    "{\n",
    "  int x = 1;\n",
    "  {\n",
    "    int x = 0;\n",
    "    std::cout <<  \"Inner scope x = \" << x << \"\\n\";\n",
    "  }\n",
    "  std::cout <<  \"Outer scope x = \" << x << \"\\n\";\n",
    "}\n",
    "//std::cout <<  \"No scope x = \" << x << \"\\n\";"
   ]
  },
  {
   "cell_type": "code",
   "execution_count": 4,
   "metadata": {},
   "outputs": [
    {
     "name": "stderr",
     "output_type": "stream",
     "text": [
      "input_line_10:5:34: error: use of undeclared identifier 'x'\n",
      "std::cout <<  \"No scope x = \" << x << \"\\n\";\n",
      "                                 ^\n"
     ]
    },
    {
     "ename": "Interpreter Error",
     "evalue": "",
     "output_type": "error",
     "traceback": [
      "Interpreter Error: "
     ]
    }
   ],
   "source": [
    "{\n",
    "  int x = 1;\n",
    "}\n",
    "std::cout <<  \"No scope x = \" << x << \"\\n\";"
   ]
  }
 ],
 "metadata": {
  "kernelspec": {
   "display_name": "C++11",
   "language": "C++11",
   "name": "xeus-cling-cpp11"
  },
  "language_info": {
   "codemirror_mode": "text/x-c++src",
   "file_extension": ".cpp",
   "mimetype": "text/x-c++src",
   "name": "c++",
   "version": "-std=c++11"
  }
 },
 "nbformat": 4,
 "nbformat_minor": 2
}
