{
 "cells": [
  {
   "cell_type": "code",
   "execution_count": 1,
   "metadata": {},
   "outputs": [],
   "source": [
    ".L omp"
   ]
  },
  {
   "cell_type": "markdown",
   "metadata": {},
   "source": [
    "### Loop Variables"
   ]
  },
  {
   "cell_type": "code",
   "execution_count": 2,
   "metadata": {},
   "outputs": [
    {
     "name": "stdout",
     "output_type": "stream",
     "text": [
      "OMP Thread# \u0000\u0000\u0000\u0000\u0000\u0000\u0000\u0000\u0000\u0000\u0000\u00000 i++ 2018 x++ 0\n",
      "1OOMP Thread# 20 i++ 11923\n",
      "OMP Thread# OMP Thread# \u0000  i++ 2 x++  \n",
      "5OMP Thread# 0 i++ 23 i++ 21++ \u0000\u00006 x++ \u0000OMP Thread# 7\n",
      "4 x++ read# 28\n",
      "++ 22 x++ 9\n",
      "OMP Thread# i++ 25 x++ 2310\n",
      "11\n",
      "OMP Thread# 0MP Thread# 2 i++  i++ 64 12\n",
      "13OMP Thread# \n",
      "OMP Thread# 0 i++ 2  x++ 14\n",
      "14\n",
      "OMP Thread# 0 i++ 8 x++ 15\n",
      "OMP Thread# 1 i++ 9 x++ 16\n",
      "OMP Thread# 1 i++ 10 x++ 17\n",
      "OMP Thread# 1 i++ 11 x++ 18\n",
      "OMP Thread# 1 i++ 12 x++ 19\n",
      "OMP Thread# 1 i++ 13 x++ 20\n",
      "OMP Thread# 1 i++ 14 x++ 21\n",
      "OMP Thread# 1 i++ 15 x++ 22\n",
      "OMP Thread# 1 i++ 16 x++ 23\n",
      "OMP Thread# 1 i++ 17 x++ 24\n",
      "OMP Thread# 3 i++ 26 x++ 25\n",
      "OMP Thread# 3 i++ 27 x++ 26\n",
      "OMP Thread# 3 i++ 28 x++ 27\n",
      "OMP Thread# 3 i++ 29 x++ 28\n",
      "OMP Thread# 3 i++ 30 x++ 29\n",
      "OMP Thread# 3 i++ 31 x++ 30\n",
      "OMP Thread# 3 i++ 32 x++ 31\n",
      "OMP Thread# 3 i++ 33 x++ 32\n",
      "OMP Thread# 4 i++ 34 x++ 33\n",
      "OMP Thread# 4 i++ 35 x++ 34\n",
      "OMP Thread# 4 i++ 36 x++ 35\n",
      "OMP Thread# 4 i++ 37 x++ 36\n",
      "OMP Thread# 4 i++ 38 x++ 37\n",
      "OMP Thread# 4 i++ 39 x++ 38\n",
      "OMP Thread# 4 i++ 40 x++ 39\n",
      "OMP Thread# 4 i++ 4OMP Thread# \u0000\u0000\u0000\u0000\u0000\u0000\u0000\u0000\u0000\u0000\u0000\u00000 i++ 2018 x++ 0\n",
      "1OOMP Thread# 20 i++ 11923\n",
      "OMP Thread# OMP Thread# \u0000  i++ 2 x++  \n",
      "5OMP Thread# 0 i++ 23 i++ 21++ \u0000\u00006 x++ \u0000OMP Thread# 7\n",
      "4 x++ read# 28\n",
      "++ 22 x++ 9\n",
      "OMP Thread# i++ 25 x++ 2310\n",
      "11\n",
      "OMP Thread# 0MP Thread# 2 i++  i++ 64 12\n",
      "13OMP Thread# \n",
      "OMP Thread# 0 i++ 2  x++ 14\n",
      "14\n",
      "OMP Thread# 0 i++ 8 x++ 15\n",
      "OMP Thread# 1 i++ 9 x++ 16\n",
      "OMP Thread# 1 i++ 10 x++ 17\n",
      "OMP Thread# 1 i++ 11 x++ 18\n",
      "OMP Thread# 1 i++ 12 x++ 19\n",
      "OMP Thread# 1 i++ 13 x++ 20\n",
      "OMP Thread# 1 i++ 14 x++ 21\n",
      "OMP Thread# 1 i++ 15 x++ 22\n",
      "OMP Thread# 1 i++ 16 x++ 23\n",
      "OMP Thread# 1 i++ 17 x++ 24\n",
      "OMP Thread# 3 i++ 26 x++ 25\n",
      "OMP Thread# 3 i++ 27 x++ 26\n",
      "OMP Thread# 3 i++ 28 x++ 27\n",
      "OMP Thread# 3 i++ 29 x++ 28\n",
      "OMP Thread# 3 i++ 30 x++ 29\n",
      "OMP Thread# 3 i++ 31 x++ 30\n",
      "OMP Thread# 3 i++ 32 x++ 31\n",
      "OMP Thread# 3 i++ 33 x++ 32\n",
      "OMP Thread# 4 i++ 34 x++ 33\n",
      "OMP Thread# 4 i++ 35 x++ 34\n",
      "OMP Thread# 4 i++ 36 x++ 35\n",
      "OMP Thread# 4 i++ 37 x++ 36\n",
      "OMP Thread# 4 i++ 38 x++ 37\n",
      "OMP Thread# 4 i++ 39 x++ 38\n",
      "OMP Thread# 4 i++ 40 x++ 39\n",
      "OMP Thread# 4 i++ 41 x++ 48\n"
     ]
    }
   ],
   "source": [
    "#include <iostream>\n",
    "#include <omp.h>\n",
    "{\n",
    "  int i;\n",
    "  int x = 0;\n",
    "\n",
    "  #pragma omp parallel for\n",
    "  for ( i=0; i<50; i++ )\n",
    "  {\n",
    "    std::cout << \"OMP Thread# \" << omp_get_thread_num() << \" i++ \" << i++ << \" x++ \" << x++ << \"\\n\";\n",
    "  }\n",
    "}"
   ]
  },
  {
   "cell_type": "markdown",
   "metadata": {},
   "source": [
    "### Private"
   ]
  },
  {
   "cell_type": "code",
   "execution_count": 3,
   "metadata": {},
   "outputs": [
    {
     "name": "stdout",
     "output_type": "stream",
     "text": [
      "OMP Thread# 4 shared++ 0 private++ 1811928833\n",
      "OMP Thread# OMP Thread# 0 shared++ 1 private++ 1\n",
      "OMP Thread# 0 shared++ 2 private++ 2\n",
      "3 shared++ 3 private++ 0\n",
      "OMP Thread# 3 shared++ 4 private++ 1\n",
      "OMP Thread# 5 shared++ 5 private++ 0\n",
      "OMP Thread# 2 shared++ 6 private++ 2091197953\n",
      "OMP Thread# 2 shared++ 7 private++ 2091197954\n",
      "OMP Thread# 1 shared++ 8 private++ 0\n",
      "OMP Thread# 1 shared++ 9 private++ 1\n"
     ]
    }
   ],
   "source": [
    "#include <iostream>\n",
    "#include <omp.h>\n",
    "{\n",
    "  int i;\n",
    "  int sh = 0;\n",
    "  int pr = 0;\n",
    "\n",
    "  #pragma omp parallel for private(pr) shared(sh)\n",
    "  for ( i=0; i<10; i++ )\n",
    "  {\n",
    "    std::cout << \"OMP Thread# \" << omp_get_thread_num() << \" shared++ \" << sh++ << \" private++ \" << pr++ << \"\\n\";\n",
    "  }\n",
    "}"
   ]
  },
  {
   "cell_type": "markdown",
   "metadata": {},
   "source": [
    "### First Private"
   ]
  },
  {
   "cell_type": "code",
   "execution_count": 4,
   "metadata": {},
   "outputs": [
    {
     "name": "stdout",
     "output_type": "stream",
     "text": [
      "OMP Thread# 4 shared++ 0 firstprivate++ 0\n",
      "OMP Thread# 5 shared++ 1 firstprivate++ 0\n",
      "OMP Thread# 3 shared++ 2 firstprivate++ 0\n",
      "OMP Thread# 3 shared++ 3 firstprivate++ 1\n",
      "OMP Thread# 0 shared++ 4 firstprivate++ 0\n",
      "OMP Thread# 0 shared++ 5 firstprivate++ 1\n",
      "OMP Thread# 2 shared++ 6 firstprivate++ 0\n",
      "OMP Thread# 2 shared++ 7 firstprivate++ 1\n",
      "OMP Thread# 1 shared++ 8 firstprivate++ 0\n",
      "OMP Thread# 1 shared++ 9 firstprivate++ 1\n"
     ]
    }
   ],
   "source": [
    "#include <iostream>\n",
    "#include <omp.h>\n",
    "{\n",
    "  int i;\n",
    "  int sh = 0;\n",
    "  int pr = 0;\n",
    "\n",
    "  #pragma omp parallel for firstprivate(pr) shared(sh)\n",
    "  for ( i=0; i<10; i++ )\n",
    "  {\n",
    "    std::cout << \"OMP Thread# \" << omp_get_thread_num() << \" shared++ \" << sh++ << \" firstprivate++ \" << pr++ << \"\\n\";\n",
    "  }\n",
    "}"
   ]
  },
  {
   "cell_type": "code",
   "execution_count": null,
   "metadata": {},
   "outputs": [],
   "source": []
  },
  {
   "cell_type": "code",
   "execution_count": null,
   "metadata": {},
   "outputs": [],
   "source": []
  }
 ],
 "metadata": {
  "kernelspec": {
   "display_name": "C++11",
   "language": "C++11",
   "name": "xeus-cling-cpp11"
  },
  "language_info": {
   "codemirror_mode": "text/x-c++src",
   "file_extension": ".cpp",
   "mimetype": "text/x-c++src",
   "name": "c++",
   "version": "-std=c++11"
  }
 },
 "nbformat": 4,
 "nbformat_minor": 2
}
