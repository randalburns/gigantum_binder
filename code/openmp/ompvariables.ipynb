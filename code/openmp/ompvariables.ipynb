{
 "cells": [
  {
   "cell_type": "code",
   "execution_count": 1,
   "metadata": {},
   "outputs": [],
   "source": [
    ".L omp"
   ]
  },
  {
   "cell_type": "markdown",
   "metadata": {},
   "source": [
    "### Loop Variables"
   ]
  },
  {
   "cell_type": "code",
   "execution_count": 2,
   "metadata": {},
   "outputs": [
    {
     "name": "stdout",
     "output_type": "stream",
     "text": [
      "OMP Thread# 0 i++ 0 x++ 0\n",
      "OMP Thread# 0 i++ 1 x++ 1\n",
      "OMP Thread# 0 i++ 2 x++ 2\n",
      "OMP Thread# 0 i++ 3 x++ 3\n",
      "OMP Thread# 0 i++ 4 x++ 4\n",
      "OMP Thread# 0 i++ 5 x++ 5\n",
      "OMP Thread# 0 i++ 6 x++ 6\n",
      "OMP Thread# 0 i++ 7 x++ 7\n",
      "OMP Thread# 0 i++ 8 x++ 8\n",
      "OMP Thread# 1 i++ 9 x++ 9\n",
      "OMP Thread# 1 i++ 10 x++ 10\n",
      "OMP Thread# 1 i++ 11 x++ 11\n",
      "OMP Thread# 1 i++ 12 x++ 12\n",
      "OMP Thread# 1 i++ 13 x++ 13\n",
      "OMP Thread# 1 i++ 14 x++ 14\n",
      "OMP Thread# 1 i++ 15 x++ 15\n",
      "OMP Thread# 1 i++ 16 x++ 16\n",
      "OMP Thread# 1 i++ 17 x++ 17\n",
      "OMP Thread# 2 i++ 18 x++ 18\n",
      "OMP Thread# 2 i++ 19 x++ 19\n",
      "OMP Thread# 2 i++ 20 x++ 20\n",
      "OMP Thread# 2 i++ 21 x++ 21\n",
      "OMP Thread# 2 i++ 22 x++ 22\n",
      "OMP Thread# 2 i++ 23 x++ 23\n",
      "OMP Thread# 2 i++ 24 x++ 24\n",
      "OMP Thread# 2 i++ 25 x++ 25\n",
      "OMP Thread# 3 i++ 26 x++ 26\n",
      "OMP Thread# 3 i++ 27 x++ 27\n",
      "OMP Thread# 3 i++ 28 x++ 28\n",
      "OMP Thread# 3 i++ 29 x++ 29\n",
      "OMP Thread# 3 i++ 30 x++ 30\n",
      "OMP Thread# 3 i++ 31 x++ 31\n",
      "OMP Thread# 3 i++ 32 x++ 32\n",
      "OMP Thread# 3 i++ 33 x++ 33\n",
      "OMP Thread# 4 i++ 34 x++ 34\n",
      "OMP Thread# 4 i++ 35 x++ 35\n",
      "OMP Thread# 4 i++ 36 x++ 36\n",
      "OMP ThrOMP Thread# 0 i++ 0 x++ 0\n",
      "OMP Thread# 0 i++ 1 x++ 1\n",
      "OMP Thread# 0 i++ 2 x++ 2\n",
      "OMP Thread# 0 i++ 3 x++ 3\n",
      "OMP Thread# 0 i++ 4 x++ 4\n",
      "OMP Thread# 0 i++ 5 x++ 5\n",
      "OMP Thread# 0 i++ 6 x++ 6\n",
      "OMP Thread# 0 i++ 7 x++ 7\n",
      "OMP Thread# 0 i++ 8 x++ 8\n",
      "OMP Thread# 1 i++ 9 x++ 9\n",
      "OMP Thread# 1 i++ 10 x++ 10\n",
      "OMP Thread# 1 i++ 11 x++ 11\n",
      "OMP Thread# 1 i++ 12 x++ 12\n",
      "OMP Thread# 1 i++ 13 x++ 13\n",
      "OMP Thread# 1 i++ 14 x++ 14\n",
      "OMP Thread# 1 i++ 15 x++ 15\n",
      "OMP Thread# 1 i++ 16 x++ 16\n",
      "OMP Thread# 1 i++ 17 x++ 17\n",
      "OMP Thread# 2 i++ 18 x++ 18\n",
      "OMP Thread# 2 i++ 19 x++ 19\n",
      "OMP Thread# 2 i++ 20 x++ 20\n",
      "OMP Thread# 2 i++ 21 x++ 21\n",
      "OMP Thread# 2 i++ 22 x++ 22\n",
      "OMP Thread# 2 i++ 23 x++ 23\n",
      "OMP Thread# 2 i++ 24 x++ 24\n",
      "OMP Thread# 2 i++ 25 x++ 25\n",
      "OMP Thread# 3 i++ 26 x++ 26\n",
      "OMP Thread# 3 i++ 27 x++ 27\n",
      "OMP Thread# 3 i++ 28 x++ 28\n",
      "OMP Thread# 3 i++ 29 x++ 29\n",
      "OMP Thread# 3 i++ 30 x++ 30\n",
      "OMP Thread# 3 i++ 31 x++ 31\n",
      "OMP Thread# 3 i++ 32 x++ 32\n",
      "OMP Thread# 3 i++ 33 x++ 33\n",
      "OMP Thread# 4 i++ 34 x++ 34\n",
      "OMP Thread# 4 i++ 35 x++ 35\n",
      "OMP Thread# 4 i++ 36 x++ 36\n",
      "OMP Thread# 4 i++ 37 x++ 45\n",
      "OMP Thread# 4 i++ 38 x++ 46\n",
      "OMP Thread# 4 i++ 39 x++ 47\n",
      "OMP Thread# 4 i++ 40 x++ 48\n",
      "OMP Thread# 4 i++ 41 x++ 49\n"
     ]
    }
   ],
   "source": [
    "#include <iostream>\n",
    "#include <omp.h>\n",
    "{\n",
    "  int i;\n",
    "  int x = 0;\n",
    "\n",
    "  #pragma omp parallel for\n",
    "  for ( i=0; i<50; i++ )\n",
    "  {\n",
    "    std::cout << \"OMP Thread# \" << omp_get_thread_num() << \" i++ \" << i++ << \" x++ \" << x++ << \"\\n\";\n",
    "  }\n",
    "}"
   ]
  },
  {
   "cell_type": "markdown",
   "metadata": {},
   "source": [
    "### Private"
   ]
  },
  {
   "cell_type": "code",
   "execution_count": 3,
   "metadata": {},
   "outputs": [
    {
     "name": "stdout",
     "output_type": "stream",
     "text": [
      "OMP Thread# 0 shared++ 0 private++ 0\n",
      "OMP Thread# 0 shared++ 1 private++ 1\n",
      "OMP Thread# 3 shared++ 2 private++ 0\n",
      "OMP Thread# 3 shared++ 3 private++ 1\n",
      "OMP Thread# 1 shared++ 4 private++ 0\n",
      "OMP Thread# 1 shared++ 5 private++ 1\n",
      "OMP Thread# 4 shared++ 6 private++ 331331329\n",
      "OMP Thread# 5 shared++ 7 private++ 0\n",
      "OMP Thread# 2 shared++ 8 private++ 542762497\n",
      "OMP Thread# 2 shared++ 9 private++ 542762498\n"
     ]
    }
   ],
   "source": [
    "#include <iostream>\n",
    "#include <omp.h>\n",
    "{\n",
    "  int i;\n",
    "  int sh = 0;\n",
    "  int pr = 0;\n",
    "\n",
    "  #pragma omp parallel for private(pr) shared(sh)\n",
    "  for ( i=0; i<10; i++ )\n",
    "  {\n",
    "    std::cout << \"OMP Thread# \" << omp_get_thread_num() << \" shared++ \" << sh++ << \" private++ \" << pr++ << \"\\n\";\n",
    "  }\n",
    "}"
   ]
  },
  {
   "cell_type": "markdown",
   "metadata": {},
   "source": [
    "### First Private"
   ]
  },
  {
   "cell_type": "code",
   "execution_count": 4,
   "metadata": {},
   "outputs": [
    {
     "name": "stdout",
     "output_type": "stream",
     "text": [
      "OMP Thread# 3 shared++ 0 firstprivate++ 0\n",
      "OMP Thread# 3 shared++ 1 firstprivate++ 1\n",
      "OMP Thread# 0 shared++ 2 firstprivate++ 0\n",
      "OMP Thread# 0 shared++ 3 firstprivate++ 1\n",
      "OMP Thread# 1 shared++ 4 firstprivate++ 0\n",
      "OMP Thread# 1 shared++ 5 firstprivate++ 1\n",
      "OMP Thread# 2 shared++ 6 firstprivate++ 0\n",
      "OMP Thread# 2 shared++ 7 firstprivate++ 1\n",
      "OMP Thread# 4 shared++ 8 firstprivate++ 0\n",
      "OMP Thread# 5 shared++ 9 firstprivate++ 0\n"
     ]
    }
   ],
   "source": [
    "#include <iostream>\n",
    "#include <omp.h>\n",
    "{\n",
    "  int i;\n",
    "  int sh = 0;\n",
    "  int pr = 0;\n",
    "\n",
    "  #pragma omp parallel for firstprivate(pr) shared(sh)\n",
    "  for ( i=0; i<10; i++ )\n",
    "  {\n",
    "    std::cout << \"OMP Thread# \" << omp_get_thread_num() << \" shared++ \" << sh++ << \" firstprivate++ \" << pr++ << \"\\n\";\n",
    "  }\n",
    "}"
   ]
  }
 ],
 "metadata": {
  "kernelspec": {
   "display_name": "C++11",
   "language": "C++11",
   "name": "xeus-cling-cpp11"
  },
  "language_info": {
   "codemirror_mode": "text/x-c++src",
   "file_extension": ".cpp",
   "mimetype": "text/x-c++src",
   "name": "c++",
   "version": "-std=c++11"
  }
 },
 "nbformat": 4,
 "nbformat_minor": 2
}
